{
  "nbformat": 4,
  "nbformat_minor": 0,
  "metadata": {
    "colab": {
      "name": "Copy of shopcassignment.ipynb",
      "provenance": [],
      "collapsed_sections": [],
      "authorship_tag": "ABX9TyOhHQ+qnDnfon8fGXKLpq+b",
      "include_colab_link": true
    },
    "kernelspec": {
      "name": "python3",
      "display_name": "Python 3"
    }
  },
  "cells": [
    {
      "cell_type": "markdown",
      "metadata": {
        "id": "view-in-github",
        "colab_type": "text"
      },
      "source": [
        "<a href=\"https://colab.research.google.com/github/mariesweeney900/Multi-Paradigm-Programming-Shop-Assignment/blob/main/Copy_of_shopcassignment.ipynb\" target=\"_parent\"><img src=\"https://colab.research.google.com/assets/colab-badge.svg\" alt=\"Open In Colab\"/></a>"
      ]
    },
    {
      "cell_type": "code",
      "metadata": {
        "id": "C0SeQYHlUmOa"
      },
      "source": [
        ""
      ],
      "execution_count": null,
      "outputs": []
    },
    {
      "cell_type": "code",
      "metadata": {
        "id": "z3nVYOkTqJwA"
      },
      "source": [
        ""
      ],
      "execution_count": null,
      "outputs": []
    },
    {
      "cell_type": "code",
      "metadata": {
        "id": "Le3CHMN-Q1W1"
      },
      "source": [
        ""
      ],
      "execution_count": null,
      "outputs": []
    },
    {
      "cell_type": "code",
      "metadata": {
        "id": "rJ6-Et27QsDY",
        "outputId": "01776272-1383-405d-bbf3-ed2f3483769c",
        "colab": {
          "resources": {
            "http://localhost:8080/nbextensions/google.colab/files.js": {
              "data": "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",
              "ok": true,
              "headers": [
                [
                  "content-type",
                  "application/javascript"
                ]
              ],
              "status": 200,
              "status_text": ""
            }
          },
          "base_uri": "https://localhost:8080/",
          "height": 38
        }
      },
      "source": [
        "from google.colab import files\n",
        "uploaded = files.upload()"
      ],
      "execution_count": null,
      "outputs": [
        {
          "output_type": "display_data",
          "data": {
            "text/html": [
              "\n",
              "     <input type=\"file\" id=\"files-05476711-279b-48dc-8086-3ad72ae41339\" name=\"files[]\" multiple disabled\n",
              "        style=\"border:none\" />\n",
              "     <output id=\"result-05476711-279b-48dc-8086-3ad72ae41339\">\n",
              "      Upload widget is only available when the cell has been executed in the\n",
              "      current browser session. Please rerun this cell to enable.\n",
              "      </output>\n",
              "      <script src=\"/nbextensions/google.colab/files.js\"></script> "
            ],
            "text/plain": [
              "<IPython.core.display.HTML object>"
            ]
          },
          "metadata": {
            "tags": []
          }
        }
      ]
    },
    {
      "cell_type": "code",
      "metadata": {
        "id": "gSUnPFHSQ4i8"
      },
      "source": [
        "df2 = pd.read_csv(io.BytesIO(uploaded['stockmd.csv']))\n",
        "# Dataset is now stored in a Pandas Dataframe"
      ],
      "execution_count": null,
      "outputs": []
    },
    {
      "cell_type": "code",
      "metadata": {
        "id": "TpT_QNmdu82T"
      },
      "source": [
        "from google.colab import files\n",
        "uploaded = files.upload()"
      ],
      "execution_count": null,
      "outputs": []
    },
    {
      "cell_type": "code",
      "metadata": {
        "id": "_dBxpvtvw1Bt"
      },
      "source": [
        "import io\n",
        "df2 = pd.read_csv(io.BytesIO(uploaded['stockmd.csv - stock (1).csv']))\n",
        "# Dataset is now stored in a Pandas Dataframe"
      ],
      "execution_count": null,
      "outputs": []
    },
    {
      "cell_type": "code",
      "metadata": {
        "id": "mKrwFFeluVMv"
      },
      "source": [
        "import pandas as pd"
      ],
      "execution_count": null,
      "outputs": []
    },
    {
      "cell_type": "code",
      "metadata": {
        "id": "X1nFIJIhuZs0"
      },
      "source": [
        "## Dataset is now stored in a Pandas Dataframe\n",
        "#https://towardsdatascience.com/3-ways-to-load-csv-files-into-colab-7c14fcbdcb92#:~:text=To%20start%2C%20log%20into%20your,Colab%20has%20it%20installed%20already).\n",
        "\n",
        "\n",
        "url = 'https://github.com/mariesweeney900/Multi-Paradigm-Programming-Shop-Assignment/blob/main/stockmd.csv%20-%20stock%20(1).csv'\n",
        "df1 = pd.read_csv(url)"
      ],
      "execution_count": null,
      "outputs": []
    },
    {
      "cell_type": "code",
      "metadata": {
        "id": "3dhVSdV1T8uG"
      },
      "source": [
        "## Dataset is now stored in a Pandas Dataframe\n",
        "#https://towardsdatascience.com/3-ways-to-load-csv-files-into-colab-7c14fcbdcb92#:~:text=To%20start%2C%20log%20into%20your,Colab%20has%20it%20installed%20already).\n",
        "\n",
        "import pandas as pd\n",
        "\n",
        "url = 'https://github.com/mariesweeney900/Multi-Paradigm-Programming-Shop-Assignment/blob/main/stockmd.csv%20-%20stock%20(1).csv'\n",
        "df1 = pd.read_csv(url)"
      ],
      "execution_count": null,
      "outputs": []
    },
    {
      "cell_type": "code",
      "metadata": {
        "id": "fxRylQ9oXyTH"
      },
      "source": [
        "from google.colab import files\n",
        "uploaded = files.upload()"
      ],
      "execution_count": null,
      "outputs": []
    },
    {
      "cell_type": "code",
      "metadata": {
        "id": "c861rkUuUsah"
      },
      "source": [
        "#https://realpython.com/python-csv/\n",
        "#https://help.shopify.com/en/manual/products/import-export/using-csv\n",
        "#Adapted from https://web.microsoftstream.com/video/4e05957f-02f0-4e36-8907-ce848e9f71b7\n",
        "\n",
        "import pandas as pd\n",
        "import csv\n",
        "\n",
        "\n",
        "def create_and_stock_shop():\n",
        "  a = Shop()\n",
        "  with open('stockmd.csv - stock (1).csv') as csv_file:\n",
        "    csv_reader = csv.reader(csv_file, delimiter=',')\n",
        "    first_row = next(csv.reader)\n",
        "    print(first_row)\n",
        "    for row in csv_reader:\n",
        "           p = Product(row[0], float(row[1]))\n",
        "           pa = ProductStock (p, float(row[2]))\n",
        "           a.stock.append(pa)\n",
        "           #print(pa)\n",
        "  return pa"
      ],
      "execution_count": null,
      "outputs": []
    },
    {
      "cell_type": "code",
      "metadata": {
        "id": "iJA871XKDRz8"
      },
      "source": [
        "#https://realpython.com/python-csv/\n",
        "#You can also write to a CSV file using a writer object and the .write_row() method:\n",
        "\n",
        "\n",
        "import csv\n",
        "\n",
        "with open('employee_file.csv', mode='w') as employee_file:\n",
        "    employee_writer = csv.writer(employee_file, delimiter=',', quotechar='\"', quoting=csv.QUOTE_MINIMAL)\n",
        "\n",
        "    employee_writer.writerow(['John Smith', 'Accounting', 'November'])\n",
        "    employee_writer.writerow(['Erica Meyers', 'IT', 'March'])"
      ],
      "execution_count": null,
      "outputs": []
    },
    {
      "cell_type": "code",
      "metadata": {
        "id": "HPU-fVIWQ3ze"
      },
      "source": [
        ""
      ],
      "execution_count": null,
      "outputs": []
    },
    {
      "cell_type": "code",
      "metadata": {
        "id": "V0mG8mZqDtAm"
      },
      "source": [
        "#https://subscription.packtpub.com/book/application_development/9781783285938/6/ch06lvl1sec42/using-csv-files-to-store-data\n",
        "\n",
        "import csv\n",
        "data = [[1, 2, 3], ['a', 'b', 'c'], ['Python', 'Arduino', 'Programming']]\n",
        "\n",
        "with open('example.csv', 'w') as f:\n",
        "  w = csv.writer(f)\n",
        "  for row in data:\n",
        "    w.writerow(row)"
      ],
      "execution_count": null,
      "outputs": []
    },
    {
      "cell_type": "code",
      "metadata": {
        "id": "oVym902-DtzH"
      },
      "source": [
        "from dataclasses import dataclass, field\n",
        "from typing import List\n",
        "import csv\n",
        "\n",
        "@dataclass\n",
        "class Product:\n",
        "    name: str\n",
        "    price: float = 0.0\n",
        "\n",
        "@dataclass \n",
        "class ProductStock:\n",
        "    product: Product\n",
        "    quantity: int\n",
        "\n",
        "@dataclass \n",
        "class Shop:\n",
        "    cash: float = 0.0\n",
        "    stock: List[ProductStock] = field(default_factory=list)\n",
        "\n",
        "@dataclass\n",
        "class Customer:\n",
        "    name: str = \"\"\n",
        "    budget: float = 0.0\n",
        "    shopping_list: List[ProductStock] = field(default_factory=list)\n",
        "\n",
        "def create_and_stock_shop():\n",
        "    s = Shop()\n",
        "    with open('../stock.csv') as csv_file:\n",
        "        csv_reader = csv.reader(csv_file, delimiter=',')\n",
        "        first_row = next(csv_reader)\n",
        "        s.cash = float(first_row[0])\n",
        "        for row in csv_reader:\n",
        "            p = Product(row[0], float(row[1]))\n",
        "            ps = ProductStock(p, float(row[2]))\n",
        "            s.stock.append(ps)\n",
        "            #print(ps)\n",
        "    return s\n",
        "    \n",
        "def read_customer(file_path):\n",
        "    with open(file_path) as csv_file:\n",
        "        csv_reader = csv.reader(csv_file, delimiter=',')\n",
        "        first_row = next(csv_reader)\n",
        "        c = Customer(first_row[0], float(first_row[1]))\n",
        "        for row in csv_reader:\n",
        "            name = row[0]\n",
        "            quantity = float(row[1])\n",
        "            p = Product(name)\n",
        "            ps = ProductStock(p, quantity)\n",
        "            c.shopping_list.append(ps)\n",
        "        return c \n",
        "        \n",
        "\n",
        "def print_product(p):\n",
        "    print(f'\\nPRODUCT NAME: {p.name} \\nPRODUCT PRICE: {p.price}')\n",
        "\n",
        "def print_customer(c):\n",
        "    print(f'CUSTOMER NAME: {c.name} \\nCUSTOMER BUDGET: {c.budget}')\n",
        "    \n",
        "    for item in c.shopping_list:\n",
        "        print_product(item.product)\n",
        "        \n",
        "        print(f'{c.name} ORDERS {item.quantity} OF ABOVE PRODUCT')\n",
        "        cost = item.quantity * item.product.price\n",
        "        print(f'The cost to {c.name} will be €{cost}')\n",
        "        \n",
        "def print_shop(s):\n",
        "    print(f'Shop has {s.cash} in cash')\n",
        "    for item in s.stock:\n",
        "        print_product(item.product)\n",
        "        print(f'The Shop has {item.quantity} of the above')\n",
        "\n",
        "#s = create_and_stock_shop()\n",
        "#print_shop(s)\n",
        "\n",
        "c = read_customer(\"../customer.csv\")\n",
        "print_customer(c)from dataclasses import dataclass, field\n",
        "from typing import List\n",
        "import csv\n",
        "\n",
        "@dataclass\n",
        "class Product:\n",
        "    name: str\n",
        "    price: float = 0.0\n",
        "\n",
        "@dataclass \n",
        "class ProductStock:\n",
        "    product: Product\n",
        "    quantity: int\n",
        "\n",
        "@dataclass \n",
        "class Shop:\n",
        "    cash: float = 0.0\n",
        "    stock: List[ProductStock] = field(default_factory=list)\n",
        "\n",
        "@dataclass\n",
        "class Customer:\n",
        "    name: str = \"\"\n",
        "    budget: float = 0.0\n",
        "    shopping_list: List[ProductStock] = field(default_factory=list)\n",
        "\n",
        "def create_and_stock_shop():\n",
        "    s = Shop()\n",
        "    with open('../stock.csv') as csv_file:\n",
        "        csv_reader = csv.reader(csv_file, delimiter=',')\n",
        "        first_row = next(csv_reader)\n",
        "        s.cash = float(first_row[0])\n",
        "        for row in csv_reader:\n",
        "            p = Product(row[0], float(row[1]))\n",
        "            ps = ProductStock(p, float(row[2]))\n",
        "            s.stock.append(ps)\n",
        "            #print(ps)\n",
        "    return s\n",
        "    \n",
        "def read_customer(file_path):\n",
        "    with open(file_path) as csv_file:\n",
        "        csv_reader = csv.reader(csv_file, delimiter=',')\n",
        "        first_row = next(csv_reader)\n",
        "        c = Customer(first_row[0], float(first_row[1]))\n",
        "        for row in csv_reader:\n",
        "            name = row[0]\n",
        "            quantity = float(row[1])\n",
        "            p = Product(name)\n",
        "            ps = ProductStock(p, quantity)\n",
        "            c.shopping_list.append(ps)\n",
        "        return c \n",
        "        \n",
        "\n",
        "def print_product(p):\n",
        "    print(f'\\nPRODUCT NAME: {p.name} \\nPRODUCT PRICE: {p.price}')\n",
        "\n",
        "def print_customer(c):\n",
        "    print(f'CUSTOMER NAME: {c.name} \\nCUSTOMER BUDGET: {c.budget}')\n",
        "    \n",
        "    for item in c.shopping_list:\n",
        "        print_product(item.product)\n",
        "        \n",
        "        print(f'{c.name} ORDERS {item.quantity} OF ABOVE PRODUCT')\n",
        "        cost = item.quantity * item.product.price\n",
        "        print(f'The cost to {c.name} will be €{cost}')\n",
        "        \n",
        "def print_shop(s):\n",
        "    print(f'Shop has {s.cash} in cash')\n",
        "    for item in s.stock:\n",
        "        print_product(item.product)\n",
        "        print(f'The Shop has {item.quantity} of the above')\n",
        "\n",
        "#s = create_and_stock_shop()\n",
        "#print_shop(s)\n",
        "\n",
        "c = read_customer(\"../customer.csv\")\n",
        "print_customer(c)"
      ],
      "execution_count": null,
      "outputs": []
    },
    {
      "cell_type": "code",
      "metadata": {
        "id": "lb_0H3HwEALd"
      },
      "source": [
        ""
      ],
      "execution_count": null,
      "outputs": []
    },
    {
      "cell_type": "code",
      "metadata": {
        "id": "zp6DzYEOECBt"
      },
      "source": [
        "#Adapted from https://learnonline.gmit.ie/pluginfile.php/207099/mod_resource/content/0/menu_example.c\n",
        "\n",
        "// MPP - Week 6 - A Menu in C\n",
        "#include <stdio.h>\n",
        "#include <string.h>\n",
        "#include <stdlib.h>\n",
        "\n",
        "void askName()\n",
        "{\n",
        "\tfflush(stdin);\n",
        "\tprintf(\"What is your name?\\n\");\n",
        "\tchar name[10];\n",
        "\tfgets(name,10,stdin);\n",
        "\tprintf(\"Glad to meet you, %s\\n\",name);\n",
        "}\n",
        "\n",
        "int main(void) \n",
        "{\n",
        "\tint choice = -1;\n",
        "\n",
        "\twhile (choice != 0){\n",
        "\t\t\n",
        "\t\tfflush(stdin);\n",
        "\t\tprintf(\"\\nPlease choose an option \");\n",
        "\t\tscanf(\"%d\", &choice);\n",
        "\n",
        "\t\tif (choice == 1)\n",
        "\t\t{\n",
        "\t\t\tprintf(\"The user pressed 1\\n\");\n",
        "\t\t} else if (choice == 2){\n",
        "\t\t\tprintf(\"here we can do something else\");\n",
        "\t\t} else if (choice == 3){\n",
        "\t\t\taskName();\n",
        "\t\t}\n",
        "\t}\n",
        "\tprintf(\"Buh bye\");\n",
        "}"
      ],
      "execution_count": null,
      "outputs": []
    },
    {
      "cell_type": "code",
      "metadata": {
        "id": "sQVS9WZnq1oC"
      },
      "source": [
        "#Adapted from https://learnonline.gmit.ie/pluginfile.php/136452/mod_resource/content/0/shop.c\n",
        "\n",
        "#include <stdio.h>\n",
        "#include <string.h>\n",
        "#include <stdlib.h>\n",
        "\n",
        "struct Product {\n",
        "\tchar* name;\n",
        "\tdouble price;\n",
        "};\n",
        "\n",
        "struct ProductStock {\n",
        "\tstruct Product product;\n",
        "\tint quantity;\n",
        "};\n",
        "\n",
        "struct Shop {\n",
        "\tdouble cash;\n",
        "\tstruct ProductStock stock[20];\n",
        "\tint index;\n",
        "};\n",
        "\n",
        "struct Customer {\n",
        "\tchar* name;\n",
        "\tdouble budget;\n",
        "\tstruct ProductStock shoppingList[10];\n",
        "\tint index;\n",
        "};\n",
        "\n",
        "void printProduct(struct Product p)\n",
        "{\n",
        "\tprintf(\"PRODUCT NAME: %s \\nPRODUCT PRICE: %.2f\\n\", p.name, p.price);\n",
        "\tprintf(\"-------------\\n\");\n",
        "}\n",
        "\n",
        "void printCustomer(struct Customer c)\n",
        "{\n",
        "\tprintf(\"CUSTOMER NAME: %s \\nCUSTOMER BUDGET: %.2f\\n\", c.name, c.budget);\n",
        "\tprintf(\"-------------\\n\");\n",
        "\tfor(int i = 0; i < c.index; i++)\n",
        "\t{\n",
        "\t\tprintProduct(c.shoppingList[i].product);\n",
        "\t\tprintf(\"%s ORDERS %d OF ABOVE PRODUCT\\n\", c.name, c.shoppingList[i].quantity);\n",
        "\t\tdouble cost = c.shoppingList[i].quantity * c.shoppingList[i].product.price; \n",
        "\t\tprintf(\"The cost to %s will be €%.2f\\n\", c.name, cost);\n",
        "\t}\n",
        "}\n",
        "\n",
        "struct Shop createAndStockShop()\n",
        "{\n",
        "\tstruct Shop shop = { 200 };\n",
        "    FILE * fp;\n",
        "    char * line = NULL;\n",
        "    size_t len = 0;\n",
        "    ssize_t read;\n",
        "\n",
        "    fp = fopen(\"stock.csv\", \"r\");\n",
        "    if (fp == NULL)\n",
        "        exit(EXIT_FAILURE);\n",
        "\n",
        "    while ((read = getline(&line, &len, fp)) != -1) {\n",
        "        // printf(\"Retrieved line of length %zu:\\n\", read);\n",
        "        // printf(\"%s IS A LINE\", line);\n",
        "\t\tchar *n = strtok(line, \",\");\n",
        "\t\tchar *p = strtok(NULL, \",\");\n",
        "\t\tchar *q = strtok(NULL, \",\");\n",
        "\t\tint quantity = atoi(q);\n",
        "\t\tdouble price = atof(p);\n",
        "\t\tchar *name = malloc(sizeof(char) * 50);\n",
        "\t\tstrcpy(name, n);\n",
        "\t\tstruct Product product = { name, price };\n",
        "\t\tstruct ProductStock stockItem = { product, quantity };\n",
        "\t\tshop.stock[shop.index++] = stockItem;\n",
        "\t\t// printf(\"NAME OF PRODUCT %s PRICE %.2f QUANTITY %d\\n\", name, price, quantity);\n",
        "    }\n",
        "\t\n",
        "\treturn shop;\n",
        "}\n",
        "\n",
        "void printShop(struct Shop s)\n",
        "{\n",
        "\tprintf(\"Shop has %.2f in cash\\n\", s.cash);\n",
        "\tfor (int i = 0; i < s.index; i++)\n",
        "\t{\n",
        "\t\tprintProduct(s.stock[i].product);\n",
        "\t\tprintf(\"The shop has %d of the above\\n\", s.stock[i].quantity);\n",
        "\t}\n",
        "}\n",
        "\n",
        "int main(void) \n",
        "{\n",
        "\t// struct Customer dominic = { \"Dominic\", 100.0 };\n",
        "\t//\n",
        "\t// struct Product coke = { \"Can Coke\", 1.10 };\n",
        "\t// struct Product bread = { \"Bread\", 0.7 };\n",
        "\t// // printProduct(coke);\n",
        "\t//\n",
        "\t// struct ProductStock cokeStock = { coke, 20 };\n",
        "\t// struct ProductStock breadStock = { bread, 2 };\n",
        "\t//\n",
        "\t// dominic.shoppingList[dominic.index++] = cokeStock;\n",
        "\t// dominic.shoppingList[dominic.index++] = breadStock;\n",
        "\t//\n",
        "\t// printCustomer(dominic);\n",
        "\t\n",
        "\tstruct Shop shop = createAndStockShop();\n",
        "\tprintShop(shop);\n",
        "\t\n",
        "// printf(\"The shop has %d of the product %s\\n\", cokeStock.quantity, cokeStock.product.name);\n",
        "\t\n",
        "    return 0;\n",
        "}"
      ],
      "execution_count": null,
      "outputs": []
    },
    {
      "cell_type": "code",
      "metadata": {
        "id": "AjzVq52KqLc_"
      },
      "source": [
        "#Adapted from https://learnonline.gmit.ie/pluginfile.php/207097/mod_resource/content/0/structs_example.c\n",
        "// accompanies MPP - Week 6 - Structs Explained\n",
        "#include <stdio.h>\n",
        "#include <string.h>\n",
        "#include <stdlib.h>\n",
        "\n",
        "struct A {\n",
        "\tint val;\n",
        "\tdouble val2;\n",
        "\tint val3;\n",
        "};\n",
        "\n",
        "struct B {\n",
        "\tstruct A aInsideB;\n",
        "};\n",
        "\n",
        "void printA(struct A a){\n",
        "\tprintf(\"this is 'val' %d, this is 'val2' %.2f, and this is 'val3' %d\\n\", a.val, a.val2, a.val3);\n",
        "}\n",
        "\n",
        "int main(void) \n",
        "{\n",
        "\tstruct A a = { 10, 20.2, 4 };\n",
        "\tprintA(a);\n",
        "\tstruct A a2 = { 100 };\n",
        "\tprintA(a2);\n",
        "\t\n",
        "\tstruct B b = { a };\n",
        "\tprintA(b.aInsideB);\n",
        "\t\n",
        "\tstruct A a3 = b.aInsideB;\n",
        "\tprintf(\"this is a 'val' (%d) from the A which is inside the B\", a3.val);\n",
        "\n",
        "    return 0;\n",
        "}"
      ],
      "execution_count": null,
      "outputs": []
    }
  ]
}