{
  "nbformat": 4,
  "nbformat_minor": 0,
  "metadata": {
    "colab": {
      "name": "CShopOOP.py",
      "provenance": [],
      "collapsed_sections": [],
      "include_colab_link": true
    },
    "kernelspec": {
      "name": "python3",
      "display_name": "Python 3"
    }
  },
  "cells": [
    {
      "cell_type": "markdown",
      "metadata": {
        "id": "view-in-github",
        "colab_type": "text"
      },
      "source": [
        "<a href=\"https://colab.research.google.com/github/mariesweeney900/Multi-Paradigm-Programming-Shop-Assignment/blob/main/CShopOOP_py.ipynb\" target=\"_parent\"><img src=\"https://colab.research.google.com/assets/colab-badge.svg\" alt=\"Open In Colab\"/></a>"
      ]
    },
    {
      "cell_type": "code",
      "metadata": {
        "id": "p1Sd8Ej5AOOP"
      },
      "source": [
        "#https://www.jdoodle.com/c-online-compiler/\r\n",
        "#https://www.dummies.com/programming/c/c-programming-how-to-use-pointers-in-functions/\r\n",
        "#include <stdio.h>\r\n",
        "#include <stdlib.h>\r\n",
        "\r\n",
        "struct Product {\r\n",
        "\tchar* name;\r\n",
        "\tdouble cost;\r\n",
        "};\r\n",
        "\r\n",
        "void passDirect(struct Product p)\r\n",
        "{\r\n",
        "\tp.cost = 1000.0;\r\n",
        "}\r\n",
        "\r\n",
        "void passPointer(struct Product* p);\r\n",
        "\r\n",
        "int main()\r\n",
        "{\r\n",
        "\t// These are two of the product types\r\n",
        "\tstruct Product a = { \"Coke Can\", 1.10 };\r\n",
        "\tstruct Product* b = &a;\r\n",
        "\r\n",
        "\tpassDirect(a);\r\n",
        "\tprintf(\"Cost price is %.2f\\n\", a.cost);\r\n",
        "\tpassPointer(b);\r\n",
        "\tprintf(\"Cost price is now %.2f\\n\", a.cost);\r\n",
        "\r\n",
        "}\r\n",
        "\r\n",
        "void passPointer(struct Product* p)\r\n",
        "{\r\n",
        "\tp->cost = 1000.0;\r\n",
        "} \r\n",
        "\r\n"
      ],
      "execution_count": null,
      "outputs": []
    },
    {
      "cell_type": "code",
      "metadata": {
        "id": "NDKgLteMA-Q1"
      },
      "source": [
        "Cost price is 1.10\r\n",
        "Cost price is now 1000.00"
      ],
      "execution_count": null,
      "outputs": []
    },
    {
      "cell_type": "code",
      "metadata": {
        "id": "6vy6hd6LANbG"
      },
      "source": [
        "#include <stdio.h>\r\n",
        "#include <string.h>\r\n",
        "#include <stdlib.h>\r\n",
        "#include <errno.h>\r\n",
        "\r\n",
        "struct Customer {\r\n",
        "    char* name;\r\n",
        "\tdouble maxbudget;\r\n",
        "};\r\n",
        "\r\n",
        "struct Customer customerAccount()\r\n",
        "{\r\n",
        "\tFILE * fp;\r\n",
        "    char * line = NULL;\r\n",
        "    size_t len = 0;\r\n",
        "    ssize_t read;\r\n",
        "\r\n",
        "    fp = fopen(\"/uploads/Customer.csv\", \"r\");\r\n",
        "    if (fp == NULL)\r\n",
        "        exit(EXIT_FAILURE);\r\n",
        "\r\n",
        "\tread = getline(&line, &len, fp);\r\n",
        "    char *a = strtok(line, \",\");\r\n",
        "    char *b = strtok(NULL, \",\");\r\n",
        "    char *customerName = malloc(sizeof(char) * 50);\r\n",
        "    double customermaxBudget = atof(b);\r\n",
        "    strcpy(customerName, a); \r\n",
        "\tstruct Customer customer = { customerName, customermaxBudget};\r\n",
        "\r\n",
        "    while ((read = getline(&line, &len, fp)) != -1) {\r\n",
        "\t\t// process other lines\r\n",
        "\t}        \r\n",
        "\treturn customer;\r\n",
        "}   \r\n",
        "\r\n",
        "int main(void) \r\n",
        "{\r\n",
        "    struct Customer customer = customerAccount();\r\n",
        "\tprintf(\"Customer name is: %s and they have: %.2f for their budget\\n\", customer.name, customer.maxbudget);\r\n",
        "    return 0;\r\n",
        "} \r\n",
        "\r\n"
      ],
      "execution_count": null,
      "outputs": []
    },
    {
      "cell_type": "code",
      "metadata": {
        "id": "biJ8ZjWGE6e2"
      },
      "source": [
        "Customer name is: John and they have: 100.20 for their budget"
      ],
      "execution_count": null,
      "outputs": []
    }
  ]
}