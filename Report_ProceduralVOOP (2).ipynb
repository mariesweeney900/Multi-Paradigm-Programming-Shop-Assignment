{
  "nbformat": 4,
  "nbformat_minor": 0,
  "metadata": {
    "colab": {
      "name": "Report_ProceduralVOOP.ipynb",
      "provenance": [],
      "collapsed_sections": []
    },
    "kernelspec": {
      "name": "python3",
      "display_name": "Python 3"
    }
  },
  "cells": [
    {
      "cell_type": "markdown",
      "metadata": {
        "id": "LIv1BTtb7GhI"
      },
      "source": [
        " \n",
        "\n",
        "\n",
        "\n",
        "Two of of the most usable methods of programming are Object Oriented Programming and Procedural Programming. I will thus compare Object Oriented Programming and Procedural Programming Paradigm. Object Oriented Programming (OOP) Object Oriented Programming or OOP is a programming method that utilises the theory of classes and objects to build models focusing on the real world environment. An object is a construct of a program that identifies how to carry out specific events and how to interact with other items of the program. Objects are the building blocks of object-oriented programming. An object-oriented program uses a list of objects, these send and receive communications to share information. A class is an amalgamation of objects comparitve properties and actions, also seen to be a method. A method in OO Object-Oriented terminology is akin to a procedure in procedural terminology.  Consequently, an object or a body of objects or a class, aims to reach its goals by sending and receiving messages. An example of method, is displaying 'Hello World' to the screen. Object-Oriented Programming languages include Java, C#.NET, C++, Python and Perl. Procedural Programming languages are given directions and display it to the computer. Procedural programming relys on procedures. As procedural programming language attends to a method of problem solving all throughout the code, if any modification is required to the program, the creator has to modify each line of code that connects to the original code. Also, in the event that a problem requires a fix utilising procedural programming, the developer must begin the problem or procedure and they must then systematicaly break down the problem into smaller problems or Sub-Procedures. Continuing on, this course of action will recommence until a sub-2procedure is basic enough to be solved on its own. Examples for procedural programming languages include C, and COBOL. \n",
        "\n",
        "\n",
        "When comparing OOP And Procedural Programming, the differences between Object-Oriented Programming and Procedural Programming it is easy to be seen that OOP is reliant on objects and classes whilst Procedural Programming is reliant on procedures. Utilising objects in OOP in place of procedures in procedural programming permits the user to reuse a single code as required in any situation. This, permits coding methodology that is more advanced and has less code. With respect to the security of the data when adopting either of the programming paradigms, OOP offers more security as it has a more a more specialised data hiding mechanism versus procedural programming languages. Procedural programming utilises global data for sharing data between functions, thus data is more accessible from function to function with no rstrictions in terms of accessibility. Neverthless, OOP does not permit global data but in place the user has the license to apply the functions to private or public so users can define the access rights for data.In procedural programming, it is very difficult to append new data or functions to the application but OOP offers easier options to add new data and functions. Also, in procedural programming data cannot be relocated flexibly from function to function but OOP permits objects to relocate and communicate with each other via member privilege functions. The aim of this report was to compare Object Oriented Programming and Procedural Programming with some analysis for each programming paradigm. Hence, the report identified into what is OOP. Consequently, the report explained what objects, classes and methods are and how they interact with each other to make OOP work. In addition, we discussed a few examples for OOP. The report displays and defines what Procedural Programming is. Moreover, the report identified what procedures are, how procedures are utilised and how procedures operate.  Finally , we considered a few examples for Procedural Programming. We differentiated OOP and Procedural Programming Paradigms and we discussed a few main differences between them. \n",
        "\n",
        "\n",
        "References\n",
        "\n",
        "https://www.geeksforgeeks.org/differences-between-procedural-and-object-oriented-programming/\n",
        "\n",
        "\n",
        "https://www.tutorialspoint.com/differences-between-procedural-and-object-oriented-programming"
      ]
    },
    {
      "cell_type": "markdown",
      "metadata": {
        "id": "vattYI8eZQOU"
      },
      "source": [
        ""
      ]
    },
    {
      "cell_type": "code",
      "metadata": {
        "id": "0APyh6Z9ZPe-"
      },
      "source": [
        ""
      ],
      "execution_count": null,
      "outputs": []
    },
    {
      "cell_type": "markdown",
      "metadata": {
        "id": "9_hG325AZSrp"
      },
      "source": [
        "iN "
      ]
    },
    {
      "cell_type": "markdown",
      "metadata": {
        "id": "CprPWenVYv8A"
      },
      "source": [
        ""
      ]
    },
    {
      "cell_type": "markdown",
      "metadata": {
        "id": "xH-rtWquYvCr"
      },
      "source": [
        ""
      ]
    }
  ]
}